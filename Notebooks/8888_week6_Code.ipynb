{
  "cells": [
    {
      "cell_type": "markdown",
      "metadata": {
        "id": "GILybj15w4y7"
      },
      "source": [
        "# Week 2: Ingest and Explore the Dataset"
      ]
    },
    {
      "cell_type": "code",
      "execution_count": null,
      "metadata": {
        "colab": {
          "background_save": true
        },
        "id": "mI4Y3NIgD3aN",
        "outputId": "27a93833-a53c-4025-c4f1-9cefe8e0c536"
      },
      "outputs": [
        {
          "name": "stdout",
          "output_type": "stream",
          "text": [
            "fatal: destination path 'test' already exists and is not an empty directory.\n",
            "/content/test/Notebooks\n",
            " cpi\t\t       'stock price'\t\t\t  week4_train.csv\n",
            " dgs10_m_20250826.csv   unemployment_msa_m_20250826.csv   week4_valid.csv\n",
            " dividends\t        week4_test.csv\n"
          ]
        }
      ],
      "source": [
        "!git clone https://github.com/zhaoyangLin1008/test.git\n",
        "%cd test/Notebooks\n",
        "!ls ../Data\n"
      ]
    },
    {
      "cell_type": "code",
      "execution_count": null,
      "metadata": {
        "id": "P47MbooosI3b"
      },
      "outputs": [],
      "source": [
        "from pathlib import Path\n",
        "import pandas as pd\n",
        "import numpy as np\n",
        "from IPython.display import display"
      ]
    },
    {
      "cell_type": "code",
      "execution_count": null,
      "metadata": {
        "id": "I-i5GWf8L-uu"
      },
      "outputs": [],
      "source": [
        "# Utilities — helper to drop duplicated columns by name/content\n",
        "def drop_duplicate_columns(df, *, keep=\"first\", verbose=True):\n",
        "    before = df.shape[1]\n",
        "    df1 = df.loc[:, ~df.columns.duplicated(keep=keep)]\n",
        "    df2 = df1.loc[:, ~df1.T.duplicated(keep=keep)]\n",
        "    removed = before - df2.shape[1]\n",
        "    if verbose and removed > 0:\n",
        "        print(f\"[drop_duplicate_columns] removed {removed} duplicated columns\")\n",
        "    return df2\n"
      ]
    },
    {
      "cell_type": "code",
      "execution_count": null,
      "metadata": {
        "id": "Iplt3ULuDlKJ"
      },
      "outputs": [],
      "source": [
        "# Data import\n",
        "DATA_DIR = Path(\"../Data\")\n",
        "OUT_DIR  = Path(\"../Reports/w2_out\")\n",
        "OUT_DIR.mkdir(parents=True, exist_ok=True)"
      ]
    },
    {
      "cell_type": "code",
      "execution_count": null,
      "metadata": {
        "id": "yqy4C2IKEldz"
      },
      "outputs": [],
      "source": [
        "# raw dataset Overlook\n",
        "def try_infer_date_column(df):\n",
        "    \"\"\"Guess a date column from common names or by parsing\"\"\"\n",
        "    candidates = [\"date\", \"Date\", \"DATE\", \"observation_date\", \"Ex-Date\", \"ex_date\"]\n",
        "    for c in candidates:\n",
        "        if c in df.columns:\n",
        "            return c\n",
        "    # fallback: try parsing each column\n",
        "    for c in df.columns:\n",
        "        try:\n",
        "            parsed = pd.to_datetime(df[c].head(30), errors=\"coerce\")\n",
        "            if parsed.notna().mean() > 0.6:\n",
        "                return c\n",
        "        except Exception:\n",
        "            pass\n",
        "    return None\n",
        "\n",
        "csv_files = sorted([p for p in DATA_DIR.glob(\"*.csv\")])\n",
        "if not csv_files:\n",
        "    print(\"[WARN] No CSV files found in /content. Please upload your data files.\")\n",
        "else:\n",
        "    overview_rows = []\n",
        "    for path in csv_files:\n",
        "        df = pd.read_csv(path)\n",
        "\n",
        "        # basic info\n",
        "        nrows, ncols = df.shape\n",
        "        dcol = try_infer_date_column(df)\n",
        "\n",
        "        # check date range\n",
        "        date_min, date_max = None, None\n",
        "        if dcol is not None:\n",
        "            dt = pd.to_datetime(df[dcol], errors=\"coerce\")\n",
        "            if dt.notna().any():\n",
        "                date_min = str(dt.min().date())\n",
        "                date_max = str(dt.max().date())\n",
        "\n",
        "        num_cols = df.select_dtypes(include=[np.number]).shape[1]\n",
        "        non_num_cols = ncols - num_cols\n",
        "\n",
        "        # save a small sample for reference\n",
        "        df.head(10).to_csv(OUT_DIR / f\"sample__{path.stem}.csv\", index=False)\n",
        "\n",
        "        overview_rows.append({\n",
        "            \"filename\": path.name,\n",
        "            \"rows\": nrows,\n",
        "            \"cols\": ncols,\n",
        "            \"date_col\": dcol,\n",
        "            \"date_min\": date_min,\n",
        "            \"date_max\": date_max,\n",
        "            \"numeric_cols\": num_cols,\n",
        "            \"non_numeric_cols\": non_num_cols,\n",
        "            \"columns_preview\": \", \".join(map(str, df.columns[:6]))\n",
        "        })\n",
        "\n",
        "        print(f\"[CHECK] {path.name}: shape={df.shape}, \"\n",
        "              f\"date_col={dcol}, date_range=({date_min}, {date_max})\")\n",
        "\n",
        "    # build overview table\n",
        "    overview = pd.DataFrame(overview_rows).sort_values(\"filename\").reset_index(drop=True)\n",
        "    overview.to_csv(OUT_DIR / \"files_overview.csv\", index=False)\n",
        "\n",
        "    # show as a table in notebook\n",
        "    display(overview.head())\n",
        "    print(\"\\nOverview saved to:\", OUT_DIR / \"files_overview.csv\")\n"
      ]
    },
    {
      "cell_type": "code",
      "execution_count": null,
      "metadata": {
        "id": "5VdXKyQY-fpv"
      },
      "outputs": [],
      "source": [
        "# Data basic standardization and simple engineer features\n",
        "#covert data to monthly\n",
        "def to_month_end(s):\n",
        "    \"\"\"Convert date to month-end date\"\"\"\n",
        "    dt = pd.to_datetime(s, errors=\"coerce\")\n",
        "    return (dt + pd.offsets.MonthEnd(0)).dt.normalize()\n",
        "\n",
        "#calculate the fluctuation of month to month\n",
        "def level_diff(s, periods=1):\n",
        "    \"\"\"Month-to-month difference\"\"\"\n",
        "    return s.diff(periods=periods)\n",
        "\n",
        "#take the last price in a month\n",
        "def mon_agg_last(x):\n",
        "    \"\"\"Get the last available value in a month\"\"\"\n",
        "    return x.dropna().iloc[-1] if x.notna().any() else np.nan\n",
        "\n",
        "#convert the stock price to monthly\n",
        "def month_end_close(price_df, date_col=\"Date\", close_col=\"Close\"):\n",
        "    tmp = price_df.copy()\n",
        "    tmp[date_col] = to_month_end(tmp[date_col])\n",
        "    tmp[close_col] = pd.to_numeric(tmp[close_col], errors=\"coerce\")\n",
        "    out = (tmp.groupby(date_col, as_index=False)[close_col]\n",
        "              .agg(mon_agg_last)\n",
        "              .rename(columns={date_col: \"date\", close_col: \"adj_price\"}))\n",
        "    return out\n",
        "#claculate monthly dividents\n",
        "def monthly_sum_by_exdate(div_df, date_col=\"Ex-Date\", amt_col=\"Amount\"):\n",
        "    tmp = div_df.copy()\n",
        "    tmp[date_col] = to_month_end(tmp[date_col])\n",
        "    tmp[amt_col] = pd.to_numeric(tmp[amt_col], errors=\"coerce\")\n",
        "    out = (tmp.groupby(date_col, as_index=False)[amt_col]\n",
        "              .sum()\n",
        "              .rename(columns={date_col: \"date\", amt_col: \"dividend\"}))\n",
        "    return out\n",
        "# divident of a year\n",
        "def compute_ttm_dividend(div_monthly):\n",
        "    s = div_monthly.sort_values(\"date\")[\"dividend\"].fillna(0.0)\n",
        "    return s.rolling(window=12, min_periods=1).sum()\n"
      ]
    },
    {
      "cell_type": "code",
      "execution_count": null,
      "metadata": {
        "id": "LF3AXolVKZEZ"
      },
      "outputs": [],
      "source": [
        "# map the company and city\n",
        "COMPANY_TO_METRO = {\n",
        "    \"BXP\":  \"Boston\",\n",
        "    \"SLG\":  \"New York\",\n",
        "    \"ELME\": \"Washington\",\n",
        "    \"EQR\":  \"Chicago\",\n",
        "    \"REXR\": \"Los Angeles\",\n",
        "    \"TRNO\": \"Miami\",\n",
        "}\n",
        "\n",
        "# the dividents and price of company\n",
        "COMPANY_FILES = {\n",
        "    \"BXP\":  (\"stock price/bxp_prices.csv\",  \"dividends/bxp_dividends.csv\"),\n",
        "    \"ELME\": (\"stock price/elme_prices.csv\", \"dividends/elme_dividends.csv\"),\n",
        "    \"EQR\":  (\"stock price/eqr_prices.csv\",  \"dividends/eqr_dividends.csv\"),\n",
        "    \"REXR\": (\"stock price/rexr_prices.csv\", \"dividends/rexr_dividends.csv\"),\n",
        "    \"SLG\":  (\"stock price/slg_prices.csv\",  \"dividends/slg_dividends.csv\"),\n",
        "    \"TRNO\": (\"stock price/trno_prices.csv\", \"dividends/trno_dividends.csv\"),\n",
        "}"
      ]
    },
    {
      "cell_type": "code",
      "execution_count": null,
      "metadata": {
        "id": "zMVRPPiCLGDB"
      },
      "outputs": [],
      "source": [
        "#Data cleaning\n",
        "#First aspect --- Firms' data (price and dividents)\n",
        "company_tables = []\n",
        "for tic, (price_file, div_file) in COMPANY_FILES.items():\n",
        "  #read the raw data\n",
        "    px_raw = pd.read_csv(DATA_DIR / price_file)\n",
        "    dv_raw = pd.read_csv(DATA_DIR / div_file)\n",
        "    print(f\"[{tic}] raw shapes -> prices={px_raw.shape}, dividends={dv_raw.shape}\")\n",
        "\n",
        "    # git rid of same rows\n",
        "    px = px_raw.drop_duplicates().copy()\n",
        "    dv = dv_raw.drop_duplicates().copy()\n",
        "    # standardize time\n",
        "    px[\"Date\"] = pd.to_datetime(px[\"Date\"], errors=\"coerce\")\n",
        "    dv[\"Ex-Date\"] = pd.to_datetime(dv[\"Ex-Date\"], errors=\"coerce\")\n",
        "    #transfer numbers to folat and non numbers to NAN\n",
        "    px[\"Close\"] = pd.to_numeric(px[\"Close\"], errors=\"coerce\")\n",
        "    dv[\"Amount\"] = pd.to_numeric(dv[\"Amount\"], errors=\"coerce\")\n",
        "    #Get rid of NANs\n",
        "    px = px[px[\"Date\"].notna() & px[\"Close\"].notna()]\n",
        "    dv = dv[dv[\"Ex-Date\"].notna() & dv[\"Amount\"].notna()]\n",
        "\n",
        "    # monthly level\n",
        "    px_m = month_end_close(px)\n",
        "    dv_m = monthly_sum_by_exdate(dv)\n",
        "\n",
        "    #take the same time period\n",
        "    if not dv_m.empty and not px_m.empty:\n",
        "     min_date = max(px_m[\"date\"].min(), dv_m[\"date\"].min())\n",
        "     max_date = min(px_m[\"date\"].max(), dv_m[\"date\"].max())\n",
        "     px_m = px_m[(px_m[\"date\"] >= min_date) & (px_m[\"date\"] <= max_date)]\n",
        "     dv_m = dv_m[(dv_m[\"date\"] >= min_date) & (dv_m[\"date\"] <= max_date)]\n",
        "\n",
        "    # merge and claculate TTM\n",
        "    cur = (pd.merge(px_m, dv_m, on=\"date\", how=\"left\")\n",
        "             .sort_values(\"date\")\n",
        "             .assign(dividend=lambda d: d[\"dividend\"].fillna(0.0)))\n",
        "    cur[\"dividend_ttm\"] = compute_ttm_dividend(cur)\n",
        "    cur[\"company\"] = tic\n",
        "\n",
        "    print(f\"[{tic}] monthly rows={cur.shape[0]}, \"\n",
        "          f\"range=({cur['date'].min().date()}, {cur['date'].max().date()})\")\n",
        "\n",
        "    company_tables.append(cur[[\"date\",\"company\",\"adj_price\",\"dividend\",\"dividend_ttm\"]])\n",
        "\n",
        "all_companies = pd.concat(company_tables, ignore_index=True)\n",
        "all_companies.to_csv(OUT_DIR / \"step2_company_monthly_all.csv\", index=False)\n",
        "print(\"[all_companies] shape:\", all_companies.shape)\n",
        "display(all_companies.head(20))\n"
      ]
    },
    {
      "cell_type": "code",
      "execution_count": null,
      "metadata": {
        "id": "PfLxIVrANt3x"
      },
      "outputs": [],
      "source": [
        "#Data cleaning\n",
        "#Second aspect --- CPI and umemployment\n",
        "#CPI\n",
        "CPI_FILES = {\n",
        "    \"Boston\":      \"cpi/la_cpi_boston.csv\",\n",
        "    \"Chicago\":     \"cpi/la_cpi_chicago.csv\",\n",
        "    \"Los Angeles\": \"cpi/la_cpi_los_angeles.csv\",\n",
        "    \"Miami\":       \"cpi/la_cpi_miami.csv\",\n",
        "    \"New York\":    \"cpi/la_cpi_ny.csv\",\n",
        "    \"Washington\":  \"cpi/la_cpi_Washington.csv\",\n",
        "}\n",
        "cpi_tables = []\n",
        "\n",
        "for city, fname in CPI_FILES.items():\n",
        "    path = DATA_DIR / fname\n",
        "    if not path.exists():\n",
        "        print(f\"[WARN] Missing CPI file for {city}\")\n",
        "        continue\n",
        "\n",
        "    df = pd.read_csv(path)\n",
        "    if \"date\" in df.columns:\n",
        "        dcol = \"date\"\n",
        "    elif \"DATE\" in df.columns:\n",
        "        dcol = \"DATE\"\n",
        "    elif \"observation_date\" in df.columns:\n",
        "        dcol = \"observation_date\"\n",
        "    else:\n",
        "        dcol = df.columns[0]\n",
        "\n",
        "    vcol = \"value\" if \"value\" in df.columns else df.columns[-1]\n",
        "\n",
        "    df = df[[dcol, vcol]].rename(columns={dcol:\"date\", vcol:\"cpi\"})\n",
        "    df[\"date\"] = to_month_end(df[\"date\"])\n",
        "    df[\"cpi\"]  = pd.to_numeric(df[\"cpi\"], errors=\"coerce\")\n",
        "    df = df[df[\"date\"].notna() & df[\"cpi\"].notna()].drop_duplicates()\n",
        "    df = df.sort_values(\"date\")\n",
        "\n",
        "    # engineer features\n",
        "    df[\"cpi_yoy\"] = df[\"cpi\"]/df[\"cpi\"].shift(12) - 1\n",
        "    df[\"cpi_mom\"] = df[\"cpi\"]/df[\"cpi\"].shift(1)  - 1\n",
        "    df[\"metro\"]   = city\n",
        "\n",
        "    cpi_tables.append(df[[\"date\",\"metro\",\"cpi\",\"cpi_yoy\",\"cpi_mom\"]])\n",
        "\n",
        "# merge all COI\n",
        "cpi_all = pd.concat(cpi_tables, ignore_index=True) if cpi_tables else pd.DataFrame()\n",
        "cpi_all.to_csv(OUT_DIR / \"step3_cpi_all.csv\", index=False)\n",
        "\n",
        "print(\"CPI total shape:\", cpi_all.shape)\n",
        "display(cpi_all.head(10))\n",
        "\n",
        "#Unemployment\n",
        "unemp_path = DATA_DIR / \"unemployment_msa_m_20250826.csv\"\n",
        "if not unemp_path.exists():\n",
        "    print(\"[WARN] Unemployment file missing\")\n",
        "    unemp = pd.DataFrame(columns=[\"metro\",\"date\",\"unemp\",\"unemp_mom\"])\n",
        "else:\n",
        "    df = pd.read_csv(unemp_path)\n",
        "\n",
        "    # standardize date and time\n",
        "    df[\"date\"]  = to_month_end(df[\"date\"])\n",
        "    df[\"value\"] = pd.to_numeric(df[\"value\"], errors=\"coerce\")\n",
        "    df = df[df[\"date\"].notna() & df[\"value\"].notna()].drop_duplicates()\n",
        "\n",
        "    # metro data to the city\n",
        "    df[\"metro\"] = None\n",
        "    for city in set(COMPANY_TO_METRO.values()):\n",
        "        df.loc[df[\"city\"].str.contains(city, na=False), \"metro\"] = city\n",
        "    df = df.dropna(subset=[\"metro\"])\n",
        "\n",
        "    # take average to month\n",
        "    unemp = (df.groupby([\"metro\",\"date\"], as_index=False)[\"value\"]\n",
        "               .mean()\n",
        "               .rename(columns={\"value\":\"unemp\"}))\n",
        "    # month to month and year to year data\n",
        "    unemp = unemp.sort_values([\"metro\",\"date\"])\n",
        "    unemp[\"unemp_mom\"] = unemp.groupby(\"metro\")[\"unemp\"].transform(level_diff)\n",
        "\n",
        "unemp.to_csv(OUT_DIR / \"step4_unemployment_all.csv\", index=False)\n",
        "\n",
        "print(\"Unemployment shape:\", unemp.shape)\n",
        "display(unemp.head(10))\n"
      ]
    },
    {
      "cell_type": "code",
      "execution_count": null,
      "metadata": {
        "id": "DRXAyxwoN6Uf"
      },
      "outputs": [],
      "source": [
        "#Data cleaning\n",
        "#Third aspect --- 10Y Treasury\n",
        "ust10_path = DATA_DIR / \"dgs10_m_20250826.csv\"\n",
        "if not ust10_path.exists():\n",
        "    warnings.warn(\"10Y file missing: dgs10_m_20250826.csv\")\n",
        "    ust10 = pd.DataFrame(columns=[\"date\",\"ten_year\",\"ten_year_mom\"])\n",
        "else:\n",
        "    ust10 = pd.read_csv(ust10_path)\n",
        "    # sequence as the date\n",
        "    ust10[\"date\"] = to_month_end(ust10[\"date\"])\n",
        "    ust10 = ust10.sort_values(\"date\")\n",
        "    # calculate month to month change\n",
        "    ust10[\"ten_year\"] = pd.to_numeric(ust10[\"value\"], errors=\"coerce\")\n",
        "    ust10[\"ten_year_mom\"] = ust10[\"ten_year\"].diff(periods=1)\n",
        "    # only keep the standard rows\n",
        "    ust10 = ust10[[\"date\",\"ten_year\",\"ten_year_mom\"]]\n",
        "\n",
        "# save the file\n",
        "ust10.to_csv(OUT_DIR / \"step5_ust10.csv\", index=False)\n",
        "print(\"[ust10] shape:\", ust10.shape)\n",
        "if not ust10.empty:\n",
        "    print(f\"[ust10] range=({ust10['date'].min().date()}, {ust10['date'].max().date()})\")\n",
        "display(ust10.tail(10))"
      ]
    },
    {
      "cell_type": "code",
      "execution_count": null,
      "metadata": {
        "id": "MlR23jltuz1M"
      },
      "outputs": [],
      "source": [
        "# Final merge: all data sources into one table\n",
        "# Purpose: join sources, attach metro, de-duplicate columns, quick checks, then save.\n",
        "\n",
        "# all companies\n",
        "all_companies = pd.concat(company_tables, ignore_index=True)\n",
        "\n",
        "# name of the city\n",
        "all_companies[\"metro\"] = all_companies[\"company\"].map(COMPANY_TO_METRO)\n",
        "\n",
        "# CPI\n",
        "df_merged = pd.merge(all_companies, cpi_all, on=[\"date\", \"metro\"], how=\"left\")\n",
        "# Unemployment rate\n",
        "df_merged = pd.merge(df_merged, unemp, on=[\"date\", \"metro\"], how=\"left\")\n",
        "# 10Y yield\n",
        "df_merged = pd.merge(df_merged, ust10, on=\"date\", how=\"left\")\n",
        "\n",
        "# de-duplicate columns BEFORE export\n",
        "df_merged = drop_duplicate_columns(df_merged)\n",
        "\n",
        "# save and display\n",
        "df_merged.to_csv(OUT_DIR / \"final_dataset.csv\", index=False)\n",
        "print(\"final_dataset shape:\", df_merged.shape)\n",
        "display(df_merged.head(20))\n"
      ]
    },
    {
      "cell_type": "markdown",
      "metadata": {
        "id": "P-32KV8kOoSV"
      },
      "source": [
        "# Week 3: Data Split & EDA START"
      ]
    },
    {
      "cell_type": "markdown",
      "metadata": {
        "id": "iOFeQaQ8WkZY"
      },
      "source": [
        "Verify the basic quality of merged data: date formats, deduplication, and sorting.\n",
        "Ensure the dataset is clean and well-organized for subsequent splitting and modeling."
      ]
    },
    {
      "cell_type": "code",
      "execution_count": null,
      "metadata": {
        "id": "-wzMQ9shmFm2"
      },
      "outputs": [],
      "source": [
        "# Step 1: Data existence and basic validation\n",
        "def drop_duplicate_columns(df):\n",
        "    \"\"\"Remove duplicate columns by name or by identical content\"\"\"\n",
        "    df = df.loc[:, ~df.columns.duplicated()]\n",
        "    df = df.loc[:, ~df.T.duplicated()]\n",
        "    return df\n",
        "\n",
        "# Ensure the 'date' column is in datetime format and align dates to the end of the month (for easier time series segmentation)\n",
        "df_merged[\"date\"] = pd.to_datetime(df_merged[\"date\"])\n",
        "df_merged[\"date\"] = df_merged[\"date\"] + pd.offsets.MonthEnd(0)\n",
        "\n",
        "# Report duplicate rows/columns BEFORE dropping\n",
        "dup_rows = df_merged.duplicated(subset=[\"company\",\"date\"]).sum()\n",
        "dup_cols = df_merged.columns.duplicated().sum()\n",
        "print(f\"Duplicate rows before drop: {dup_rows}, duplicate columns: {dup_cols}\")\n",
        "\n",
        "# Remove duplicate rows/columns and sort the data\n",
        "df_merged = df_merged.drop_duplicates(subset=[\"company\",\"date\"]).sort_values([\"company\",\"date\"]).reset_index(drop=True)\n",
        "df_merged = drop_duplicate_columns(df_merged)\n",
        "\n",
        "# Check data types and missing values\n",
        "print(\"\\ndata types:\")\n",
        "print(df_merged.dtypes)\n",
        "\n",
        "print(\"\\nisna:\")\n",
        "print(df_merged.isna().sum())\n",
        "\n",
        "# Display the time range for each company\n",
        "print(\"\\ntime range for each company:\")\n",
        "time_ranges = df_merged.groupby(\"company\")[\"date\"].agg([\"min\", \"max\", \"count\"])\n",
        "print(time_ranges)\n",
        "\n",
        "# Print the first 5 rows\n",
        "print(\"\\nhead:\")\n",
        "print(df_merged.head())"
      ]
    },
    {
      "cell_type": "markdown",
      "metadata": {
        "id": "cvhXy8cpWlvE"
      },
      "source": [
        "Split the data into training, validation, and test sets based on time sequence.\n",
        "Preserve the integrity of the time series to prevent leakage of future information."
      ]
    },
    {
      "cell_type": "code",
      "execution_count": null,
      "metadata": {
        "id": "z_ky_AuCtNTO"
      },
      "outputs": [],
      "source": [
        "# Step 2: Dataset Splitting (Train / Validation / Test)\n",
        "\n",
        "# Sort by chronological order to avoid future data leakage\n",
        "df_sorted = df_merged.sort_values(\"date\").reset_index(drop=True)\n",
        "\n",
        "# Calculate split indices\n",
        "n_total = len(df_sorted)\n",
        "train_end = int(n_total * 0.7)\n",
        "valid_end = int(n_total * 0.85)\n",
        "\n",
        "# Split the dataset\n",
        "train_df = df_sorted.iloc[:train_end]\n",
        "valid_df = df_sorted.iloc[train_end:valid_end]\n",
        "test_df  = df_sorted.iloc[valid_end:]\n",
        "\n",
        "print(\"Dataset split summary:\")\n",
        "print(f\"Total samples: {n_total}\")\n",
        "print(f\"Training set: {train_df.shape}, Date range {train_df['date'].min().date()} → {train_df['date'].max().date()}\")\n",
        "print(f\"Validation set: {valid_df.shape}, Date range {valid_df['date'].min().date()} → {valid_df['date'].max().date()}\")\n",
        "print(f\"Test set: {test_df.shape}, Date range {test_df['date'].min().date()} → {test_df['date'].max().date()}\")\n",
        "\n"
      ]
    },
    {
      "cell_type": "markdown",
      "metadata": {
        "id": "p-EwPcQVWrzU"
      },
      "source": [
        "Output descriptive statistics and missing value statistics on the training set.\n",
        "The first step in EDA, helping to understand the basic distribution of the data and potential issues."
      ]
    },
    {
      "cell_type": "code",
      "execution_count": null,
      "metadata": {
        "id": "hsfVjWMztgnY"
      },
      "outputs": [],
      "source": [
        "# Step 3.1: Descriptive statistics and missing value check for the training set\n",
        "\n",
        "print(\"Training set size:\")\n",
        "print(train_df.shape)\n",
        "\n",
        "# 1. Descriptive statistics\n",
        "print(\"\\nDescriptive statistics:\")\n",
        "display(train_df.describe(include=\"all\").T)\n",
        "\n",
        "# 2. Missing value statistics\n",
        "print(\"\\nMissing value statistics:\")\n",
        "missing_stats = train_df.isna().sum().to_frame(\"missing_count\")\n",
        "missing_stats[\"missing_pct\"] = (missing_stats[\"missing_count\"] / len(train_df)) * 100\n",
        "display(missing_stats)\n",
        "\n",
        "# 3. Number of observations per company\n",
        "print(\"\\nNumber of observations per company:\")\n",
        "company_counts = train_df[\"company\"].value_counts().to_frame(\"n_obs\")\n",
        "display(company_counts)\n",
        "\n",
        "# 4. Time range check (within training set)\n",
        "print(\"\\nTime range of the training set:\")\n",
        "time_ranges_train = train_df.groupby(\"company\")[\"date\"].agg([\"min\",\"max\",\"count\"])\n",
        "display(time_ranges_train)\n"
      ]
    },
    {
      "cell_type": "markdown",
      "metadata": {
        "id": "o_zKPQQbWxct"
      },
      "source": [
        "Plot histograms and grouped boxplots for numerical variables to examine distribution characteristics and differences across companies.\n",
        "Identify skewness, outliers, and variations between companies/regions."
      ]
    },
    {
      "cell_type": "code",
      "execution_count": null,
      "metadata": {
        "id": "-NU93KM7uGeI"
      },
      "outputs": [],
      "source": [
        "# Step 3.2: Variable distribution visualization (Training set)\n",
        "\n",
        "import matplotlib.pyplot as plt\n",
        "import seaborn as sns\n",
        "\n",
        "# Set plotting style\n",
        "sns.set(style=\"whitegrid\", palette=\"muted\", font_scale=1.1)\n",
        "\n",
        "# Select numerical features (excluding date and categorical variables)\n",
        "num_cols = train_df.select_dtypes(include=[\"float64\", \"int64\"]).columns\n",
        "\n",
        "print(\"Numerical variables:\", num_cols.tolist())\n",
        "\n",
        "# 1. Histogram + KDE\n",
        "for col in num_cols:\n",
        "    plt.figure(figsize=(8, 4))\n",
        "    sns.histplot(train_df[col].dropna(), bins=30, kde=True)\n",
        "    plt.title(f\"Distribution of {col}\", fontsize=14)\n",
        "    plt.xlabel(col)\n",
        "    plt.ylabel(\"Frequency\")\n",
        "    plt.show()\n",
        "\n",
        "# 2. Comparison across companies/regions (using CPI as an example)\n",
        "plt.figure(figsize=(10, 5))\n",
        "sns.boxplot(data=train_df, x=\"company\", y=\"cpi\")\n",
        "plt.title(\"CPI distribution by company\", fontsize=14)\n",
        "plt.xticks(rotation=45)\n",
        "plt.show()\n",
        "\n",
        "plt.figure(figsize=(10, 5))\n",
        "sns.boxplot(data=train_df, x=\"metro\", y=\"unemp\")\n",
        "plt.title(\"Unemployment rate distribution by city\", fontsize=14)\n",
        "plt.show()\n"
      ]
    },
    {
      "cell_type": "markdown",
      "metadata": {
        "id": "6Ou7wBDtW6PZ"
      },
      "source": [
        "Calculate the correlation between numerical variables and plot a heatmap.\n",
        "Explore linear relationships among variables to determine if multicollinearity exists."
      ]
    },
    {
      "cell_type": "code",
      "execution_count": null,
      "metadata": {
        "id": "q3qfmusIuOqv"
      },
      "outputs": [],
      "source": [
        "# Step 3.3: Correlation analysis (Training set)\n",
        "\n",
        "# Select only numerical features\n",
        "num_cols = train_df.select_dtypes(include=[\"float64\", \"int64\"]).columns\n",
        "\n",
        "# Compute Pearson correlation coefficients\n",
        "corr_matrix = train_df[num_cols].corr(method=\"pearson\")\n",
        "\n",
        "print(\"Correlation matrix of numerical variables:\")\n",
        "display(corr_matrix)\n",
        "\n",
        "# Visualize as a heatmap\n",
        "plt.figure(figsize=(10, 8))\n",
        "sns.heatmap(corr_matrix, annot=True, fmt=\".2f\", cmap=\"coolwarm\", square=True, cbar_kws={\"shrink\": 0.75})\n",
        "plt.title(\"Correlation heatmap (Training set)\", fontsize=14)\n",
        "plt.show()\n",
        "\n"
      ]
    },
    {
      "cell_type": "markdown",
      "metadata": {
        "id": "RZ1WPPD-g0QS"
      },
      "source": [
        "# Week4: Make Data Model Ready"
      ]
    },
    {
      "cell_type": "code",
      "execution_count": null,
      "metadata": {
        "id": "kz-ykCtyuKB9"
      },
      "outputs": [],
      "source": [
        "# Step 1: Missing Value Handling\n",
        "\n",
        "# Backup the data\n",
        "df_clean = df_merged.copy()\n",
        "\n",
        "num_cols = [\"cpi\", \"cpi_yoy\", \"cpi_mom\", \"unemp\", \"unemp_mom\"]\n",
        "for col in num_cols:\n",
        "    df_clean[col] = (df_clean\n",
        "                     .sort_values([\"metro\",\"date\"])\n",
        "                     .groupby(\"metro\")[col]\n",
        "                     .ffill())\n",
        "\n",
        "medians = df_clean[num_cols].median()\n",
        "df_clean[num_cols] = df_clean[num_cols].fillna(medians)\n",
        "\n",
        "print(\"Missing value check: after\")\n",
        "print(df_clean.isna().sum())\n",
        "\n",
        "# Save the cleaned data\n",
        "df_clean.to_csv(OUT_DIR / \"week4_step1_missing_cleaned.csv\", index=False)\n",
        "print(\"Cleaned data saved\")\n"
      ]
    },
    {
      "cell_type": "code",
      "execution_count": null,
      "metadata": {
        "id": "YnNaKDWiyJbv"
      },
      "outputs": [],
      "source": [
        "# Step 2: Outlier Handling\n",
        "\n",
        "df_outlier = df_clean.copy()\n",
        "\n",
        "# Trimming\n",
        "df_outlier[\"unemp\"] = df_outlier[\"unemp\"].clip(lower=0, upper=25)\n",
        "df_outlier[\"ten_year\"] = df_outlier[\"ten_year\"].clip(lower=0, upper=15)\n",
        "df_outlier[\"dividend_ttm\"] = df_outlier[\"dividend_ttm\"].clip(lower=0, upper=df_outlier[\"dividend_ttm\"].quantile(0.99))\n",
        "\n",
        "# IQR-based winsorization\n",
        "def winsorize_iqr(series):\n",
        "    Q1 = series.quantile(0.25)\n",
        "    Q3 = series.quantile(0.75)\n",
        "    IQR = Q3 - Q1\n",
        "    lower = Q1 - 1.5 * IQR\n",
        "    upper = Q3 + 1.5 * IQR\n",
        "    return series.clip(lower=lower, upper=upper)\n",
        "\n",
        "for col in [\"cpi_mom\", \"cpi_yoy\", \"unemp_mom\", \"ten_year_mom\"]:\n",
        "    df_outlier[col] = winsorize_iqr(df_outlier[col])\n",
        "\n",
        "# Check again\n",
        "print(\"Statistics after outlier handling\")\n",
        "print(df_outlier[[\"unemp\",\"ten_year\",\"dividend_ttm\",\"cpi_mom\",\"cpi_yoy\",\"unemp_mom\",\"ten_year_mom\"]].describe().T)\n",
        "\n",
        "# Save the results\n",
        "df_outlier.to_csv(OUT_DIR / \"week4_step2_outlier_cleaned.csv\", index=False)\n",
        "print(\"Outlier handling saved\")\n"
      ]
    },
    {
      "cell_type": "code",
      "execution_count": null,
      "metadata": {
        "id": "gzTIHovNyKcO"
      },
      "outputs": [],
      "source": [
        "# Step 3: Variable Transformation and Standardization\n",
        "\n",
        "from sklearn.preprocessing import StandardScaler\n",
        "import joblib\n",
        "\n",
        "df_trans = df_outlier.copy()\n",
        "\n",
        "# Log transformation\n",
        "df_trans[\"adj_price_log\"] = np.log1p(df_trans[\"adj_price\"])\n",
        "df_trans[\"dividend_ttm_log\"] = np.log1p(df_trans[\"dividend_ttm\"])\n",
        "\n",
        "# Standardization\n",
        "scale_cols = [\n",
        "    \"cpi\", \"cpi_yoy\", \"cpi_mom\",\n",
        "    \"unemp\", \"unemp_mom\",\n",
        "    \"ten_year\", \"ten_year_mom\",\n",
        "    \"adj_price_log\", \"dividend_ttm_log\"\n",
        "]\n",
        "\n",
        "scaler = StandardScaler()\n",
        "df_trans_scaled = df_trans.copy()\n",
        "df_trans_scaled[scale_cols] = scaler.fit_transform(df_trans[scale_cols])\n",
        "\n",
        "# Save model\n",
        "joblib.dump(scaler, OUT_DIR / \"week4_step3_scaler.pkl\")\n",
        "\n",
        "# Check standardized results\n",
        "print(\"Statistics after standardization\")\n",
        "print(df_trans_scaled[scale_cols].describe().T[[\"mean\", \"std\"]])\n",
        "\n",
        "# Save data\n",
        "df_trans_scaled.to_csv(OUT_DIR / \"week4_step3_transformed.csv\", index=False)\n",
        "print(\"variable transformation and standardization saved\")\n"
      ]
    },
    {
      "cell_type": "code",
      "execution_count": null,
      "metadata": {
        "id": "QrVG6ZNG0Lmw"
      },
      "outputs": [],
      "source": [
        "# Step 4: Remove Unnecessary or Redundant Variables\n",
        "\n",
        "df_final = df_trans_scaled.copy()\n",
        "\n",
        "# Drop unnecessary variables\n",
        "drop_cols = [\"adj_price\", \"dividend\", \"dividend_ttm\"]\n",
        "df_final = df_final.drop(columns=drop_cols, errors=\"ignore\")\n",
        "\n",
        "print(\"Remaining variables:\")\n",
        "print(df_final.columns.tolist())\n",
        "\n",
        "# Save data\n",
        "df_final.to_csv(OUT_DIR / \"week4_step4_feature_selected.csv\", index=False)\n",
        "print(\"saved\")\n"
      ]
    },
    {
      "cell_type": "code",
      "execution_count": null,
      "metadata": {
        "id": "ziNLUjgE1P4B"
      },
      "outputs": [],
      "source": [
        "# Step 5: Categorical Variable Encoding\n",
        "# Purpose: one-hot encode company/metro; drop duplicated columns.\n",
        "\n",
        "df_encoded = df_final.copy()  # df_final comes from Step 4\n",
        "\n",
        "df_encoded = pd.get_dummies(\n",
        "    df_encoded,\n",
        "    columns=[\"company\", \"metro\"],\n",
        "    drop_first=False\n",
        ")\n",
        "\n",
        "# remove any duplicated columns (by name/content)\n",
        "df_encoded = drop_duplicate_columns(df_encoded)\n",
        "\n",
        "print(\"One-Hot Encoding finished. Current columns:\", len(df_encoded.columns))\n",
        "df_encoded.to_csv(OUT_DIR / \"week4_step5_encoded.csv\", index=False)\n",
        "print(\"saved\")\n"
      ]
    },
    {
      "cell_type": "code",
      "execution_count": null,
      "metadata": {
        "id": "OFCQYeJLZlEZ"
      },
      "outputs": [],
      "source": [
        "# Step 6: Bucketize / Categorize selected numerical variables\n",
        "# Purpose: quantile bins for ten_year and cpi_yoy, then one-hot; drop duplicated columns.\n",
        "\n",
        "df_bucket = df_encoded.copy()  # from Step 5\n",
        "\n",
        "# 3-bin for ten_year\n",
        "df_bucket[\"ten_year_bin\"] = pd.qcut(\n",
        "    df_bucket[\"ten_year\"], q=3, labels=[\"low\", \"mid\", \"high\"]\n",
        ")\n",
        "\n",
        "# 4-bin for cpi_yoy\n",
        "df_bucket[\"cpi_yoy_bin\"] = pd.qcut(\n",
        "    df_bucket[\"cpi_yoy\"], q=4, labels=[\"q1\", \"q2\", \"q3\", \"q4\"]\n",
        ")\n",
        "\n",
        "# one-hot for bins\n",
        "df_bucket = pd.get_dummies(\n",
        "    df_bucket,\n",
        "    columns=[\"ten_year_bin\", \"cpi_yoy_bin\"],\n",
        "    drop_first=False\n",
        ")\n",
        "\n",
        "# remove duplicated columns (defensive)\n",
        "df_bucket = drop_duplicate_columns(df_bucket)\n",
        "\n",
        "print(\"Bucketized and encoded columns added.\")\n",
        "df_bucket.to_csv(OUT_DIR / \"week4_step6_bucketized.csv\", index=False)\n",
        "print(\"Bucketized dataset saved.\")\n"
      ]
    },
    {
      "cell_type": "code",
      "execution_count": null,
      "metadata": {
        "id": "Oen3Tu7q1im3"
      },
      "outputs": [],
      "source": [
        "# Step 7: Final Check and Export\n",
        "# Purpose: chronological split on the fully-processed table; export 3 sets.\n",
        "\n",
        "# use the fully processed table (after Step 6)\n",
        "df_final_model = df_bucket.copy()\n",
        "\n",
        "# chronological split\n",
        "df_final_model = df_final_model.sort_values(\"date\").reset_index(drop=True)\n",
        "n = len(df_final_model)\n",
        "train_end = int(n * 0.70)\n",
        "valid_end = int(n * 0.85)\n",
        "\n",
        "train_final = df_final_model.iloc[:train_end].copy()\n",
        "valid_final = df_final_model.iloc[train_end:valid_end].copy()\n",
        "test_final  = df_final_model.iloc[valid_end:].copy()\n",
        "\n",
        "# basic checks\n",
        "for name, d in [(\"train\", train_final), (\"valid\", valid_final), (\"test\", test_final)]:\n",
        "    print(name, d.shape, \"missing:\", int(d.isna().sum().sum()), \"dupe rows:\", int(d.duplicated().sum()))\n",
        "\n",
        "# export\n",
        "train_final.to_csv(OUT_DIR / \"week4_train.csv\", index=False)\n",
        "valid_final.to_csv(OUT_DIR / \"week4_valid.csv\", index=False)\n",
        "test_final.to_csv(OUT_DIR / \"week4_test.csv\", index=False)\n",
        "print(\"Final datasets saved (train/valid/test)\")\n"
      ]
    },
    {
      "cell_type": "markdown",
      "metadata": {
        "id": "iizK_zpWl9bv"
      },
      "source": [
        "# Week5: Engineer Features, Data augmentation, Dimensionality Reduction"
      ]
    },
    {
      "cell_type": "markdown",
      "metadata": {
        "id": "6EU7PQurMQmn"
      },
      "source": [
        "## Engineer Features"
      ]
    },
    {
      "cell_type": "code",
      "execution_count": null,
      "metadata": {
        "id": "7m9LIsZJmE1b"
      },
      "outputs": [],
      "source": [
        "# Step 1: Construct Target Variable TSR\n",
        "\n",
        "# copy df_encoded\n",
        "df_fe = df_encoded.copy()\n",
        "\n",
        "# make sure there is a company column\n",
        "if \"company\" not in df_fe.columns:\n",
        "    company_cols = [c for c in df_fe.columns if c.startswith(\"company_\")]\n",
        "    df_fe[\"company\"] = df_fe[company_cols].idxmax(axis=1).str.replace(\"company_\", \"\", regex=False)\n",
        "\n",
        "# Merge original price and dividend columns\n",
        "extra_cols = pd.read_csv(\n",
        "    OUT_DIR / \"week4_step3_transformed.csv\",\n",
        "    usecols=[\"date\", \"company\", \"adj_price\", \"dividend\"])\n",
        "\n",
        "# Convert the 'date' column to datetime format\n",
        "extra_cols[\"date\"] = pd.to_datetime(extra_cols[\"date\"], errors=\"coerce\")\n",
        "df_fe[\"date\"] = pd.to_datetime(df_fe[\"date\"], errors=\"coerce\")\n",
        "\n",
        "# Merge the datasets\n",
        "df_fe = pd.merge(df_fe, extra_cols, on=[\"date\", \"company\"], how=\"left\")\n",
        "\n",
        "# Next month's price\n",
        "df_fe[\"price_next\"] = df_fe.groupby(\"company\")[\"adj_price\"].shift(-1)\n",
        "\n",
        "# Next month's dividend\n",
        "df_fe[\"div_next\"] = df_fe.groupby(\"company\")[\"dividend\"].shift(-1)\n",
        "\n",
        "# Calculate TSR (Total Shareholder Return)\n",
        "df_fe[\"TSR_next\"] = (\n",
        "    (df_fe[\"price_next\"] - df_fe[\"adj_price\"]) + df_fe[\"div_next\"]\n",
        ") / df_fe[\"adj_price\"]\n",
        "\n",
        "# Remove the last month\n",
        "df_fe = df_fe.dropna(subset=[\"TSR_next\"]).reset_index(drop=True)\n",
        "\n",
        "# Check\n",
        "print(\"TSR construction completed\")\n",
        "print(df_fe[[\"date\",\"company\",\"adj_price\",\"dividend\",\"TSR_next\"]].head(10))\n",
        "\n",
        "# Save\n",
        "df_fe.to_csv(OUT_DIR / \"week5_step1_target.csv\", index=False)\n",
        "print(\"TSR has been saved\")"
      ]
    },
    {
      "cell_type": "code",
      "execution_count": null,
      "metadata": {
        "id": "CWulaeuxmb0o"
      },
      "outputs": [],
      "source": [
        "# Step 2: Lagged Features\n",
        "\n",
        "df_lag = df_fe.copy()\n",
        "\n",
        "# Define columns for generating lagged features\n",
        "lag_cols = [\"TSR_next\", \"cpi_yoy\", \"cpi_mom\", \"unemp\", \"unemp_mom\", \"ten_year\", \"ten_year_mom\"]\n",
        "\n",
        "# Generate 1-period, 3-period, and 6-period lags by group\n",
        "for col in lag_cols:\n",
        "    for lag in [1, 3, 6]:\n",
        "        df_lag[f\"{col}_lag{lag}\"] = df_lag.groupby(\"company_BXP\")[col].shift(lag)\n",
        "\n",
        "# Drop missing values\n",
        "df_lag = df_lag.dropna().reset_index(drop=True)\n",
        "\n",
        "# Check\n",
        "print(\"Lagged feature samples\")\n",
        "print(df_lag[[ \"date\", \"TSR_next\", \"TSR_next_lag1\", \"TSR_next_lag3\", \"TSR_next_lag6\"]].head(10))\n",
        "\n",
        "# Save\n",
        "df_lag.to_csv(OUT_DIR / \"week5_step2_lagged.csv\", index=False)\n",
        "print(\"Lagged features have been saved\")"
      ]
    },
    {
      "cell_type": "code",
      "execution_count": null,
      "metadata": {
        "id": "MhaAh370m_tW"
      },
      "outputs": [],
      "source": [
        "# Step 3: Rolling Window Features\n",
        "\n",
        "df_roll = df_lag.copy()\n",
        "\n",
        "# Define variables for rolling window calculations\n",
        "roll_cols = [\"TSR_next\", \"cpi_mom\", \"unemp\", \"ten_year\"]\n",
        "\n",
        "# Window sizes\n",
        "windows = [3, 6]\n",
        "\n",
        "# Generate rolling mean and standard deviation\n",
        "for col in roll_cols:\n",
        "    for w in windows:\n",
        "        df_roll[f\"{col}_roll{w}_mean\"] = df_roll.groupby(\"company_BXP\")[col].transform(lambda x: x.rolling(w).mean())\n",
        "        df_roll[f\"{col}_roll{w}_std\"]  = df_roll.groupby(\"company_BXP\")[col].transform(lambda x: x.rolling(w).std())\n",
        "\n",
        "# Drop rows with NA values\n",
        "df_roll = df_roll.dropna().reset_index(drop=True)\n",
        "\n",
        "# Check\n",
        "print(\"Rolling feature samples\")\n",
        "print(df_roll[[\"date\", \"TSR_next\", \"TSR_next_roll3_mean\", \"TSR_next_roll3_std\", \"TSR_next_roll6_mean\"]].head(10))\n",
        "\n",
        "# Save results\n",
        "df_roll.to_csv(OUT_DIR / \"week5_step3_rolling.csv\", index=False)\n",
        "print(\"Rolling window features have been saved\")"
      ]
    },
    {
      "cell_type": "code",
      "execution_count": null,
      "metadata": {
        "id": "FDC2ujdZnFZL"
      },
      "outputs": [],
      "source": [
        "# Step 4: Interaction Features\n",
        "\n",
        "df_inter = df_roll.copy()\n",
        "\n",
        "# 1. Interaction between inflation and unemployment\n",
        "df_inter[\"cpi_unemp_interaction\"] = df_inter[\"cpi_mom\"] * df_inter[\"unemp\"]\n",
        "\n",
        "# 2. Interaction between interest rate and dividend\n",
        "df_inter[\"rate_div_interaction\"] = df_inter[\"ten_year\"] * df_inter[\"dividend_ttm_log\"]\n",
        "\n",
        "# 3. Dividend yield ratio\n",
        "df_inter[\"div_yield_ratio\"] = df_inter[\"dividend_ttm_log\"] / (df_inter[\"adj_price_log\"] + 1e-6)\n",
        "\n",
        "# Check results\n",
        "print(\"Interaction feature samples\")\n",
        "print(df_inter[[\"date\",\"cpi_unemp_interaction\",\"rate_div_interaction\",\"div_yield_ratio\"]].head(10))\n",
        "\n",
        "# Save\n",
        "df_inter.to_csv(OUT_DIR / \"week5_step4_interaction.csv\", index=False)\n",
        "print(\"Interaction features have been saved\")"
      ]
    },
    {
      "cell_type": "code",
      "execution_count": null,
      "metadata": {
        "id": "RGAseI1_nUNv"
      },
      "outputs": [],
      "source": [
        "# Step 5: Time Features\n",
        "\n",
        "df_time = df_inter.copy()\n",
        "\n",
        "# Extract month\n",
        "df_time[\"month\"] = pd.to_datetime(df_time[\"date\"]).dt.month\n",
        "\n",
        "# One-Hot Encoding\n",
        "df_time = pd.get_dummies(df_time, columns=[\"month\"], prefix=\"month\", drop_first=False)\n",
        "\n",
        "# Check\n",
        "month_cols = [col for col in df_time.columns if col.startswith(\"month_\")]\n",
        "print(\"Time feature samples\")\n",
        "print(df_time[[\"date\"] + month_cols].head(15))\n",
        "\n",
        "# Save\n",
        "df_time.to_csv(OUT_DIR / \"week5_step5_time_features.csv\", index=False)\n",
        "print(\"Time features have been saved\")"
      ]
    },
    {
      "cell_type": "markdown",
      "metadata": {
        "id": "V_2GyKPX1m2k"
      },
      "source": [
        "##Data augmentation"
      ]
    },
    {
      "cell_type": "code",
      "execution_count": null,
      "metadata": {
        "id": "37z3S7k71rtW"
      },
      "outputs": [],
      "source": [
        "#Output directory for Week 5\n",
        "AUG_OUT_DIR = Path(\"../Reports/w5_out\")\n",
        "AUG_OUT_DIR.mkdir(parents=True, exist_ok=True)"
      ]
    },
    {
      "cell_type": "code",
      "execution_count": null,
      "metadata": {
        "id": "JAx0-gMw17ks"
      },
      "outputs": [],
      "source": [
        "#1) Build a modeling dataset and compute the target variable\n",
        "#Target: next-month total shareholder return (TSR)\n",
        "#TSR_{t+1} = (Price_{t+1} + Dividend_{t+1}) / Price_{t} - 1\n",
        "def build_modeling_dataset(df: pd.DataFrame) -> pd.DataFrame:\n",
        "    required_cols = [\n",
        "        \"date\", \"company\", \"metro\",\n",
        "        \"adj_price\", \"dividend\", \"dividend_ttm\",\n",
        "        \"cpi\", \"cpi_yoy\", \"cpi_mom\",\n",
        "        \"unemp\", \"unemp_mom\",\n",
        "        \"ten_year\", \"ten_year_mom\",\n",
        "    ]\n",
        "    miss = [c for c in required_cols if c not in df.columns]\n",
        "    if miss:\n",
        "        raise ValueError(f\"Missing expected columns in df_merged: {miss}\")\n",
        "\n",
        "    d = df.copy()\n",
        "    d[\"date\"] = pd.to_datetime(d[\"date\"], errors=\"coerce\")\n",
        "    d = d.dropna(subset=[\"date\"]).sort_values([\"company\", \"date\"]).reset_index(drop=True)\n",
        "\n",
        "    # Compute next-month TSR within each company\n",
        "    def compute_next_tsr(g: pd.DataFrame) -> pd.Series:\n",
        "        p_t   = g[\"adj_price\"]\n",
        "        p_tp1 = g[\"adj_price\"].shift(-1)\n",
        "        div_tp1 = g[\"dividend\"].shift(-1)\n",
        "        y = ((p_tp1 + div_tp1) / p_t) - 1.0\n",
        "        return y\n",
        "\n",
        "    d[\"tsr_next_1m\"] = d.groupby(\"company\", group_keys=False).apply(compute_next_tsr)\n",
        "    d = d.dropna(subset=[\"tsr_next_1m\"]).reset_index(drop=True)\n",
        "\n",
        "    keep_cols = required_cols + [\"tsr_next_1m\"]\n",
        "    base = d[keep_cols].copy()\n",
        "\n",
        "    base.to_csv(AUG_OUT_DIR / \"w5_base_modeling_dataset.csv\", index=False)\n",
        "    print(f\"[base] saved to {AUG_OUT_DIR/'w5_base_modeling_dataset.csv'} with shape={base.shape}\")\n",
        "    return base\n"
      ]
    },
    {
      "cell_type": "code",
      "execution_count": null,
      "metadata": {
        "id": "r97RogJs2D8-"
      },
      "outputs": [],
      "source": [
        "#2) Noise-Jitter augmentation\n",
        "#Add small Gaussian noise to numeric predictors\n",
        "def _iqr_scale(x: np.ndarray) -> float:\n",
        "    x = x[~np.isnan(x)]\n",
        "    if x.size == 0:\n",
        "        return np.nan\n",
        "    q1, q3 = np.percentile(x, [25, 75])\n",
        "    iqr = q3 - q1\n",
        "    if iqr <= 0:\n",
        "        # fallback to std if IQR is degenerate\n",
        "        return float(np.std(x)) if x.size > 1 else 0.0\n",
        "    # 1.4826*IQR approximates std for normal distributions\n",
        "    return 1.4826 * iqr\n",
        "\n",
        "def augment_with_noise(\n",
        "    df_base: pd.DataFrame,\n",
        "    n_copies: int = 2,\n",
        "    noise_frac: float = 0.08,\n",
        "    seed: int = 7,\n",
        "    clip_quantiles=(0.01, 0.99),\n",
        ") -> pd.DataFrame:\n",
        "    rng = np.random.default_rng(seed)\n",
        "    numeric_cols = df_base.select_dtypes(include=[np.number]).columns.tolist()\n",
        "    # Do not perturb the label\n",
        "    if \"tsr_next_1m\" in numeric_cols:\n",
        "        numeric_cols.remove(\"tsr_next_1m\")\n",
        "\n",
        "    # Pre-compute per-column scales and quantiles\n",
        "    scales = {c: _iqr_scale(df_base[c].values) for c in numeric_cols}\n",
        "    qlo = df_base[numeric_cols].quantile(clip_quantiles[0])\n",
        "    qhi = df_base[numeric_cols].quantile(clip_quantiles[1])\n",
        "\n",
        "    out_list = [df_base.assign(aug_tag=\"original\")]\n",
        "    for k in range(n_copies):\n",
        "        noisy = df_base.copy()\n",
        "        for c in numeric_cols:\n",
        "            sd = scales.get(c, 0.0)\n",
        "            if not np.isfinite(sd) or sd == 0.0:\n",
        "                continue\n",
        "            noise = rng.normal(loc=0.0, scale=noise_frac * sd, size=len(noisy))\n",
        "            noisy[c] = noisy[c].values + noise\n",
        "\n",
        "            # clip per column to realistic range\n",
        "            noisy[c] = noisy[c].clip(lower=qlo[c], upper=qhi[c])\n",
        "\n",
        "        noisy[\"aug_tag\"] = f\"noise_{k+1}\"\n",
        "        out_list.append(noisy)\n",
        "\n",
        "    aug_noise = pd.concat(out_list, ignore_index=True)\n",
        "    aug_noise.to_csv(AUG_OUT_DIR / \"w5_aug_noise.csv\", index=False)\n",
        "    print(f\"[aug_noise] generated {n_copies} noisy copies. total_rows={aug_noise.shape[0]}\")\n",
        "    return aug_noise"
      ]
    },
    {
      "cell_type": "code",
      "execution_count": null,
      "metadata": {
        "id": "pl-Y1xaE2VsS"
      },
      "outputs": [],
      "source": [
        "#3) Mixup augmentation (within-company)\n",
        "def augment_with_mixup(\n",
        "    df_base: pd.DataFrame,\n",
        "    n_samples: int,\n",
        "    alpha: float = 0.4,\n",
        "    seed: int = 99,\n",
        "    group_col: str = \"company\",\n",
        ") -> pd.DataFrame:\n",
        "    rng = np.random.default_rng(seed)\n",
        "\n",
        "    # Columns that should not be interpolated\n",
        "    exclude_cols = [\"date\", \"company\", \"metro\", \"aug_tag\"]\n",
        "    cols_to_mix = [c for c in df_base.columns if c not in exclude_cols]\n",
        "\n",
        "    groups = df_base[group_col].unique().tolist()\n",
        "    rows = []\n",
        "    for _ in range(n_samples):\n",
        "        g = rng.choice(groups)\n",
        "        idx = df_base.index[df_base[group_col] == g].to_numpy()\n",
        "        if idx.size < 2:\n",
        "            continue\n",
        "        i1, i2 = rng.choice(idx, size=2, replace=False)\n",
        "        lam = float(rng.beta(alpha, alpha))\n",
        "\n",
        "        row1 = df_base.loc[i1]\n",
        "        row2 = df_base.loc[i2]\n",
        "        mixed = row1.copy()\n",
        "        # interpolate numeric and label columns\n",
        "        for c in cols_to_mix:\n",
        "            v1 = row1[c]\n",
        "            v2 = row2[c]\n",
        "            # if both numeric-like, do interpolation\n",
        "            if np.issubdtype(type(v1), np.number) and np.issubdtype(type(v2), np.number):\n",
        "                mixed[c] = lam * v1 + (1.0 - lam) * v2\n",
        "\n",
        "        mixed[\"aug_tag\"] = \"mixup\"\n",
        "        rows.append(mixed)\n",
        "\n",
        "    if not rows:\n",
        "        raise RuntimeError(\"Mixup could not generate any samples (insufficient group sizes).\")\n",
        "\n",
        "    aug_mix = pd.DataFrame(rows).reset_index(drop=True)\n",
        "    aug_mix.to_csv(AUG_OUT_DIR / \"w5_aug_mixup.csv\", index=False)\n",
        "    print(f\"[aug_mixup] generated {aug_mix.shape[0]} synthetic rows via mixup.\")\n",
        "    return aug_mix"
      ]
    },
    {
      "cell_type": "code",
      "execution_count": null,
      "metadata": {
        "id": "nwsdhChI2d4i"
      },
      "outputs": [],
      "source": [
        "#Print the result\n",
        "base = build_modeling_dataset(df_merged)\n",
        "\n",
        "aug_noise = augment_with_noise(\n",
        "    df_base=base,\n",
        "    n_copies=2,        # number of noisy replicas\n",
        "    noise_frac=0.08,   # noise scale\n",
        "    seed=7\n",
        ")\n",
        "\n",
        "mixup_size = int(len(base) * 0.50)  # 50% of base rows\n",
        "aug_mix = augment_with_mixup(\n",
        "    df_base=base,\n",
        "    n_samples=mixup_size,\n",
        "    alpha=0.4,\n",
        "    seed=99,\n",
        "    group_col=\"company\"\n",
        ")\n",
        "\n",
        "aug_all = pd.concat([aug_noise, aug_mix], ignore_index=True)\n",
        "aug_all = aug_all.sample(frac=1.0, random_state=42).reset_index(drop=True)\n",
        "aug_all.to_csv(AUG_OUT_DIR / \"w5_aug_all.csv\", index=False)\n",
        "\n",
        "print(f\"[final] saved augmented dataset to {AUG_OUT_DIR/'w5_aug_all.csv'} with shape={aug_all.shape}\")\n",
        "print(f\"[final] NaNs in target tsr_next_1m: {aug_all['tsr_next_1m'].isna().sum()}\")\n",
        "print(aug_all[\"aug_tag\"].value_counts())"
      ]
    },
    {
      "cell_type": "markdown",
      "metadata": {
        "id": "o36zgl8IL-vN"
      },
      "source": [
        "## Dimensionality Reduction (Setup & Load)"
      ]
    },
    {
      "cell_type": "code",
      "execution_count": null,
      "metadata": {
        "id": "AeTs3rxYL-vO"
      },
      "outputs": [],
      "source": [
        "# load processed splits and prepare numeric matrices for DR.\n",
        "TARGET_COL = \"tsr_next_1m\"\n",
        "\n",
        "DATA_DIR    = Path(\"../Data\")\n",
        "REPORTS_DIR = Path(\"../Reports\")\n",
        "DIMRED_DIR  = Path(\"../Reports/w5_dimred\")\n",
        "DIMRED_DIR.mkdir(parents=True, exist_ok=True)\n",
        "\n",
        "def split_xy(df):\n",
        "    if TARGET_COL in df.columns:\n",
        "        y = df[TARGET_COL].copy()\n",
        "        X = df.drop(columns=[TARGET_COL])\n",
        "    else:\n",
        "        y = None\n",
        "        X = df.copy()\n",
        "    return X, y\n",
        "\n",
        "def try_load_splits(base_dir: Path):\n",
        "    tp, vp, ep = base_dir/\"week4_train.csv\", base_dir/\"week4_valid.csv\", base_dir/\"week4_test.csv\"\n",
        "    if tp.exists() and vp.exists() and ep.exists():\n",
        "        return (pd.read_csv(tp), pd.read_csv(vp), pd.read_csv(ep))\n",
        "    return None\n",
        "\n",
        "loaded = try_load_splits(DATA_DIR) or try_load_splits(REPORTS_DIR)\n",
        "if loaded:\n",
        "    train_df, valid_df, test_df = loaded\n",
        "else:\n",
        "    df_final_model = df_bucket.copy().sort_values(\"date\").reset_index(drop=True)\n",
        "    n = len(df_final_model); train_end = int(n*0.70); valid_end = int(n*0.85)\n",
        "    train_df = df_final_model.iloc[:train_end].copy()\n",
        "    valid_df = df_final_model.iloc[train_end:valid_end].copy()\n",
        "    test_df  = df_final_model.iloc[valid_end:].copy()\n",
        "\n",
        "X_tr_raw, y_tr = split_xy(train_df)\n",
        "X_va_raw, y_va = split_xy(valid_df)\n",
        "X_te_raw, y_te = split_xy(test_df)\n",
        "\n",
        "exclude = {\"date\",\"company\",\"metro\"}\n",
        "num_cols = [c for c in X_tr_raw.columns if c not in exclude and pd.api.types.is_numeric_dtype(X_tr_raw[c])]\n",
        "\n",
        "X_tr_num = X_tr_raw[num_cols].copy()\n",
        "X_va_num = X_va_raw[num_cols].copy()\n",
        "X_te_num = X_te_raw[num_cols].copy()\n",
        "\n",
        "# save with parquet if available, else CSV\n",
        "def _save_df(df, stem):\n",
        "    try:\n",
        "        df.to_parquet(DIMRED_DIR / f\"{stem}.parquet\", index=False)\n",
        "    except Exception:\n",
        "        df.to_csv(DIMRED_DIR / f\"{stem}.csv\", index=False)\n",
        "\n",
        "_save_df(X_tr_num, \"X_train_num\")\n",
        "_save_df(X_va_num, \"X_valid_num\")\n",
        "_save_df(X_te_num, \"X_test_num\")\n",
        "\n",
        "print(\"Numeric shapes:\", X_tr_num.shape, X_va_num.shape, X_te_num.shape)"
      ]
    },
    {
      "cell_type": "code",
      "execution_count": null,
      "metadata": {
        "id": "nLvuZHFnL-vO"
      },
      "outputs": [],
      "source": [
        "# PCA\n",
        "# standardize numeric features and apply PCA; save components and models.\n",
        "from sklearn.decomposition import PCA\n",
        "from sklearn.manifold import TSNE\n",
        "\n",
        "scaler = StandardScaler()\n",
        "Xtr_s = scaler.fit_transform(X_tr_num.values)\n",
        "Xva_s = scaler.transform(X_va_num.values)\n",
        "Xte_s = scaler.transform(X_te_num.values)\n",
        "\n",
        "pca_full = PCA(n_components=None, svd_solver=\"full\", random_state=42)\n",
        "pca_full.fit(Xtr_s)\n",
        "cum_var = np.cumsum(pca_full.explained_variance_ratio_)\n",
        "k95 = int(np.searchsorted(cum_var, 0.95) + 1)\n",
        "n_comp = int(min(50, max(2, k95)))\n",
        "\n",
        "pca = PCA(n_components=n_comp, svd_solver=\"full\", random_state=42)\n",
        "Xtr_pca = pca.fit_transform(Xtr_s)\n",
        "Xva_pca = pca.transform(Xva_s)\n",
        "Xte_pca = pca.transform(Xte_s)\n",
        "\n",
        "joblib.dump(scaler, DIMRED_DIR / \"scaler.joblib\")\n",
        "joblib.dump(pca,    DIMRED_DIR / \"pca.joblib\")\n",
        "\n",
        "# save with parquet if available, else CSV\n",
        "def _save_df(df, stem):\n",
        "    pqt = DIMRED_DIR / f\"{stem}.parquet\"\n",
        "    csv = DIMRED_DIR / f\"{stem}.csv\"\n",
        "    try:\n",
        "        df.to_parquet(pqt, index=False)\n",
        "    except Exception:\n",
        "        df.to_csv(csv, index=False)\n",
        "\n",
        "import pandas as pd, numpy as np\n",
        "_save_df(pd.DataFrame(Xtr_pca), \"X_train_pca\")\n",
        "_save_df(pd.DataFrame(Xva_pca), \"X_valid_pca\")\n",
        "_save_df(pd.DataFrame(Xte_pca), \"X_test_pca\")\n",
        "\n",
        "vr = pd.DataFrame({\n",
        "    \"component\": np.arange(1, len(pca.explained_variance_ratio_)+1),\n",
        "    \"explained_variance_ratio\": pca.explained_variance_ratio_,\n",
        "    \"cumulative_variance\": np.cumsum(pca.explained_variance_ratio_)\n",
        "})\n",
        "vr.to_csv(DIMRED_DIR / \"pca_variance_report.csv\", index=False)\n",
        "\n",
        "print(\"PCA n_components:\", n_comp)"
      ]
    },
    {
      "cell_type": "code",
      "execution_count": null,
      "metadata": {
        "id": "-1sxz6OCL-vP"
      },
      "outputs": [],
      "source": [
        "# t-SNE Embedding (train only)\n",
        "# export 2D embedding for visualization/inspection.\n",
        "\n",
        "Xtsne_in = Xtr_s\n",
        "if Xtsne_in.shape[0] > 5000:\n",
        "    Xtsne_in = Xtsne_in[:5000, :]\n",
        "\n",
        "# build kwargs compatible across sklearn versions\n",
        "base_kwargs = dict(n_components=2, init=\"pca\", perplexity=30, random_state=42)\n",
        "# try with learning_rate=\"auto\"; if not supported, drop it\n",
        "try:\n",
        "    _ = TSNE(learning_rate=\"auto\", **base_kwargs)\n",
        "    lr_kwargs = dict(learning_rate=\"auto\")\n",
        "except TypeError:\n",
        "    lr_kwargs = {}\n",
        "\n",
        "# try max_iter first (newer sklearn), fallback to n_iter (older)\n",
        "try:\n",
        "    tsne = TSNE(max_iter=1000, verbose=0, **lr_kwargs, **base_kwargs)\n",
        "except TypeError:\n",
        "    tsne = TSNE(n_iter=1000, verbose=0, **lr_kwargs, **base_kwargs)\n",
        "\n",
        "Z = tsne.fit_transform(Xtsne_in)\n",
        "\n",
        "tsne_df = pd.DataFrame(Z, columns=[\"tsne_1\",\"tsne_2\"])\n",
        "tsne_df.to_csv(DIMRED_DIR / \"train_tsne2d.csv\", index=False)\n",
        "print(\"t-SNE done:\", tsne_df.shape)\n"
      ]
    },
    {
      "cell_type": "markdown",
      "metadata": {
        "id": "JnKH0KOVL-vP"
      },
      "source": [
        "# Week6：Develop First modeling approach"
      ]
    },
    {
      "cell_type": "markdown",
      "metadata": {
        "id": "k41R-YKBL-vQ"
      },
      "source": [
        "## Model training setup"
      ]
    },
    {
      "cell_type": "code",
      "execution_count": null,
      "metadata": {
        "id": "aXha8RfCL-vQ"
      },
      "outputs": [],
      "source": [
        "import json\n",
        "\n",
        "# Paths\n",
        "BASE = Path(\"..\")\n",
        "DATA = BASE / \"Data\"\n",
        "DOCS = BASE / \"Docs\"\n",
        "MODELS = BASE / \"Models\"\n",
        "MODELS.mkdir(parents=True, exist_ok=True)\n",
        "DOCS.mkdir(parents=True, exist_ok=True)\n",
        "\n",
        "# Read data\n",
        "train_csv = DATA / \"week4_train.csv\"\n",
        "valid_csv = DATA / \"week4_valid.csv\"\n",
        "if not train_csv.exists():\n",
        "    raise FileNotFoundError(f\"Missing {train_csv}\")\n",
        "df_train = pd.read_csv(train_csv)\n",
        "df_val = pd.read_csv(valid_csv) if valid_csv.exists() else None\n",
        "\n",
        "# Target name\n",
        "hint = DOCS / \"target_column.txt\"\n",
        "TARGET_COL = hint.read_text(encoding=\"utf-8\").strip() if hint.exists() else \"\"\n",
        "\n",
        "# Align target with columns\n",
        "cols = list(df_train.columns); low = [c.lower() for c in cols]\n",
        "want = TARGET_COL.strip().lower()\n",
        "if want and want in low:\n",
        "    TARGET_COL = cols[low.index(want)]\n",
        "else:\n",
        "    pri = [\"tsr_next_1m\",\"tsr_1m\",\"tsr\",\"total_shareholder_return\",\"return\",\"target\",\"y\"]\n",
        "    TARGET_COL = next((cols[low.index(p)] for p in pri if p in low), \"\") or TARGET_COL\n",
        "    if not TARGET_COL:\n",
        "        hits = [cols[i] for i, n in enumerate(low) if (\"tsr\" in n or \"return\" in n)]\n",
        "        if len(hits) == 1:\n",
        "            TARGET_COL = hits[0]\n",
        "    if not TARGET_COL:\n",
        "        num_all = df_train.select_dtypes(include=[np.number]).columns.tolist()\n",
        "        if not num_all:\n",
        "            raise ValueError(\"No numeric columns for fallback target\")\n",
        "        TARGET_COL = num_all[-1]\n",
        "        print(\"[Warn] Fallback target ->\", TARGET_COL)\n",
        "# Persist target\n",
        "hint.write_text(TARGET_COL, encoding=\"utf-8\")\n",
        "\n",
        "# Numeric features\n",
        "num_cols = df_train.select_dtypes(include=[np.number]).columns.tolist()\n",
        "FEATURES = [c for c in num_cols if c != TARGET_COL]\n",
        "if not FEATURES:\n",
        "    raise ValueError(\"No numeric features found\")\n",
        "\n",
        "# Build matrices\n",
        "X_train = df_train[FEATURES]\n",
        "y_train = df_train[TARGET_COL].astype(float)\n",
        "X_val = df_val[FEATURES] if df_val is not None else None\n",
        "y_val = df_val[TARGET_COL].astype(float) if df_val is not None else None\n",
        "\n",
        "# Save schema\n",
        "schema = {\n",
        "    \"target\": TARGET_COL,\n",
        "    \"features\": FEATURES,\n",
        "    \"train_rows\": int(len(X_train)),\n",
        "    \"val_rows\": int(len(X_val)) if X_val is not None else 0,\n",
        "    \"train_source\": \"Data/week4_train.csv\",\n",
        "    \"val_source\": \"Data/week4_valid.csv\" if df_val is not None else \"\"\n",
        "}\n",
        "(MODELS / \"training_schema.json\").write_text(json.dumps(schema, indent=2), encoding=\"utf-8\")\n",
        "print(\"Matrices ready:\", X_train.shape, y_train.shape)\n",
        "\n"
      ]
    },
    {
      "cell_type": "markdown",
      "metadata": {
        "id": "Tr54fPcXL-vQ"
      },
      "source": [
        "## Train and save"
      ]
    },
    {
      "cell_type": "code",
      "execution_count": null,
      "metadata": {
        "id": "PIdsVJEHL-vQ"
      },
      "outputs": [],
      "source": [
        "from sklearn.ensemble import RandomForestRegressor\n",
        "import time\n",
        "\n",
        "# Use existing estimator if provided\n",
        "names = ['estimator','model','clf','reg','rf','baseline']\n",
        "estimator = next((globals()[k] for k in names if k in globals()), None)\n",
        "\n",
        "# Fallback baseline if none\n",
        "if estimator is None:\n",
        "    estimator = RandomForestRegressor(random_state=42, n_estimators=300)\n",
        "\n",
        "# Fit\n",
        "t0 = time.time()\n",
        "fitted = estimator.fit(X_train, y_train)\n",
        "train_time = round(time.time() - t0, 3)\n",
        "\n",
        "# Persist model\n",
        "stamp = time.strftime(\"%Y%m%d-%H%M%S\")\n",
        "model_path = MODELS / f\"baseline_{stamp}.joblib\"\n",
        "joblib.dump(fitted, model_path)\n",
        "\n",
        "# Persist metadata\n",
        "meta = {\n",
        "    \"model_file\": f\"Models/baseline_{stamp}.joblib\",\n",
        "    \"algo\": type(estimator).__name__,\n",
        "    \"params\": getattr(estimator, \"get_params\", lambda: {})(),\n",
        "    \"target\": TARGET_COL,\n",
        "    \"features\": FEATURES,\n",
        "    \"train_rows\": int(len(X_train)),\n",
        "    \"train_time_sec\": train_time\n",
        "}\n",
        "(MODELS / f\"baseline_{stamp}_meta.json\").write_text(json.dumps(meta, indent=2), encoding=\"utf-8\")\n",
        "\n",
        "print(\"Model trained ->\", model_path.name)"
      ]
    },
    {
      "cell_type": "markdown",
      "metadata": {
        "id": "8t5zBVBlMloa"
      },
      "source": [
        "## Hyperparameter Tuning\n"
      ]
    },
    {
      "cell_type": "code",
      "execution_count": null,
      "metadata": {
        "id": "eovPxoPzMk72"
      },
      "outputs": [],
      "source": [
        "from sklearn.model_selection import RandomizedSearchCV\n",
        "from sklearn.metrics import mean_squared_error, r2_score\n",
        "from scipy.stats import randint\n",
        "import numpy as np\n",
        "\n",
        "# Load datasets\n",
        "train = pd.read_csv(\"../Reports/w2_out/week5_step5_time_features.csv\")\n",
        "valid = train.copy()\n",
        "\n",
        "# Prepare features and target\n",
        "target_col = \"TSR_next\"\n",
        "feature_cols = [c for c in train.columns if c not in [\"date\", \"company\", target_col]]\n",
        "\n",
        "X_train, y_train = train[feature_cols], train[target_col]\n",
        "X_valid, y_valid = valid[feature_cols], valid[target_col]\n",
        "\n",
        "# Define model and parameter grid\n",
        "rf = RandomForestRegressor(random_state=42)\n",
        "\n",
        "param_dist = {\n",
        "    \"n_estimators\": randint(100, 500),\n",
        "    \"max_depth\": randint(3, 15),\n",
        "    \"min_samples_split\": randint(2, 10),\n",
        "    \"min_samples_leaf\": randint(1, 5),\n",
        "    \"max_features\": [\"auto\", \"sqrt\", \"log2\"]\n",
        "}\n",
        "\n",
        "# Randomized Search\n",
        "rf_random = RandomizedSearchCV(\n",
        "    estimator=rf,\n",
        "    param_distributions=param_dist,\n",
        "    n_iter=25,\n",
        "    scoring=\"neg_root_mean_squared_error\",\n",
        "    cv=3,\n",
        "    random_state=42,\n",
        "    verbose=2,\n",
        "    n_jobs=-1\n",
        ")\n",
        "\n",
        "rf_random.fit(X_train, y_train)\n",
        "\n",
        "# Print best parameters and performance\n",
        "print(\"Best Parameters Found:\")\n",
        "print(rf_random.best_params_)\n",
        "\n",
        "best_model = rf_random.best_estimator_\n",
        "\n",
        "# Evaluate on validation set\n",
        "y_pred = best_model.predict(X_valid)\n",
        "rmse = np.sqrt(mean_squared_error(y_valid, y_pred))\n",
        "r2 = r2_score(y_valid, y_pred)\n",
        "\n",
        "print(f\"Validation RMSE: {rmse:.4f}\")\n",
        "print(f\"Validation R²: {r2:.4f}\")\n",
        "\n",
        "# Save tuned model performance summary\n",
        "results = pd.DataFrame(rf_random.cv_results_).sort_values(by=\"rank_test_score\")\n",
        "results.to_csv(\"../Reports/w2_out/week5_rf_tuning_results.csv\", index=False)\n",
        "print(\"Tuning results have been saved.\")"
      ]
    },
    {
      "cell_type": "code",
      "execution_count": 43,
      "metadata": {
        "id": "_mJ-57yAL-vR"
      },
      "outputs": [],
      "source": [
        "#Model evaluation"
      ]
    },
    {
      "cell_type": "code",
      "execution_count": 55,
      "metadata": {
        "id": "mShDODI9vDoh"
      },
      "outputs": [],
      "source": [
        "\n",
        "import os, json, time, warnings\n",
        "from pathlib import Path\n",
        "import numpy as np\n",
        "import pandas as pd\n",
        "import matplotlib.pyplot as plt\n",
        "from sklearn.metrics import mean_squared_error, mean_absolute_error, r2_score\n",
        "import joblib\n",
        "\n",
        "DATA = Path(\"test/Data\")\n",
        "MODELS = Path(\"test/Models\")\n",
        "REPORTS = Path(\"test/Reports\")\n",
        "EVAL_DIR = REPORTS / \"w6_eval\"\n",
        "EVAL_DIR.mkdir(parents=True, exist_ok=True)"
      ]
    },
    {
      "cell_type": "code",
      "source": [
        "#Load test data\n",
        "test_path = Path(\"test/Reports/w2_out/week4_step5_encoded.csv\")\n",
        "if not test_path.exists():\n",
        "    raise FileNotFoundError(f\"{test_path} not found.\")\n",
        "print(f\"[Info] Using encoded dataset: {test_path}\")\n",
        "\n",
        "df_test = pd.read_csv(test_path)\n",
        "\n",
        "# Detect target column (contains 'tsr' or 'return')\n",
        "possible_targets = [c for c in df_test.columns if \"tsr\" in c.lower() or \"return\" in c.lower()]\n",
        "TARGET = possible_targets[0] if possible_targets else df_test.columns[-1]\n",
        "print(f\"[Info] Detected target column: {TARGET}\")\n",
        "\n",
        "# Select numeric feature columns\n",
        "features = [c for c in df_test.columns if c != TARGET and pd.api.types.is_numeric_dtype(df_test[c])]\n",
        "X_test = df_test[features]\n",
        "y_test = df_test[TARGET].astype(float)"
      ],
      "metadata": {
        "colab": {
          "base_uri": "https://localhost:8080/",
          "height": 0
        },
        "id": "PXMC1n7cya4I",
        "outputId": "a25e7d19-8678-470d-e924-87d721b07b5d"
      },
      "execution_count": 56,
      "outputs": [
        {
          "output_type": "stream",
          "name": "stdout",
          "text": [
            "[Info] Using encoded dataset: test/Reports/w2_out/week4_step5_encoded.csv\n",
            "[Info] Detected target column: company_TRNO\n"
          ]
        }
      ]
    },
    {
      "cell_type": "code",
      "source": [
        "#Load the model\n",
        "model_files = sorted(MODELS.glob(\"*.joblib\"), key=lambda f: f.stat().st_mtime, reverse=True)\n",
        "if not model_files:\n",
        "    raise FileNotFoundError(\"No .joblib model found under /test/Models.\")\n",
        "model_path = model_files[0]\n",
        "model = joblib.load(model_path)\n",
        "print(f\"[Info] Loaded model: {model_path.name}\")"
      ],
      "metadata": {
        "colab": {
          "base_uri": "https://localhost:8080/",
          "height": 0
        },
        "id": "Lsh12n7fyejF",
        "outputId": "7caff6bf-896e-4b86-b5b2-84cba2553195"
      },
      "execution_count": 57,
      "outputs": [
        {
          "output_type": "stream",
          "name": "stdout",
          "text": [
            "[Info] Loaded model: baseline_20251012-233358.joblib\n"
          ]
        }
      ]
    },
    {
      "cell_type": "code",
      "source": [
        "#Evaluate performance\n",
        "if hasattr(model, \"feature_names_in_\"):\n",
        "    train_cols = model.feature_names_in_\n",
        "    X_test = X_test.reindex(columns=train_cols, fill_value=0)\n",
        "    print(f\"[Info] Aligned test features to {len(train_cols)} columns used in training.\")\n",
        "else:\n",
        "    print(\"[Warn] Model has no stored feature names; using all numeric columns as is.\")\n",
        "\n",
        "y_pred = model.predict(X_test)\n",
        "\n",
        "y_pred = model.predict(X_test)\n",
        "\n",
        "rmse = np.sqrt(mean_squared_error(y_test, y_pred))\n",
        "mae = mean_absolute_error(y_test, y_pred)\n",
        "r2 = r2_score(y_test, y_pred)\n",
        "mape = np.mean(np.abs((y_test - y_pred) / (np.abs(y_test) + 1e-8))) * 100\n",
        "\n",
        "print(\"\\n=== Model Evaluation ===\")\n",
        "print(f\"RMSE: {rmse:.4f}\")\n",
        "print(f\"MAE:  {mae:.4f}\")\n",
        "print(f\"R²:   {r2:.4f}\")\n",
        "print(f\"MAPE: {mape:.2f}%\")"
      ],
      "metadata": {
        "colab": {
          "base_uri": "https://localhost:8080/",
          "height": 0
        },
        "id": "h9atmqvby-0W",
        "outputId": "b23b7734-23c9-4514-bdfa-671d39236fc5"
      },
      "execution_count": 60,
      "outputs": [
        {
          "output_type": "stream",
          "name": "stdout",
          "text": [
            "[Info] Aligned test features to 8 columns used in training.\n",
            "\n",
            "=== Model Evaluation ===\n",
            "RMSE: 1.1334\n",
            "MAE:  0.9795\n",
            "R²:   -8.2013\n",
            "MAPE: 7132433741.95%\n"
          ]
        }
      ]
    },
    {
      "cell_type": "code",
      "source": [
        "#visualization\n",
        "# Prediction vs Actual\n",
        "plt.figure(figsize=(5,5))\n",
        "plt.scatter(y_test, y_pred, s=8, alpha=0.6)\n",
        "mn, mx = min(y_test.min(), y_pred.min()), max(y_test.max(), y_pred.max())\n",
        "plt.plot([mn, mx], [mn, mx], \"--\", color=\"red\")\n",
        "plt.xlabel(\"True Values\")\n",
        "plt.ylabel(\"Predicted Values\")\n",
        "plt.title(\"Prediction vs True (Encoded Test Set)\")\n",
        "plt.tight_layout()\n",
        "plt.savefig(EVAL_DIR / \"pred_vs_true.png\", dpi=150)\n",
        "plt.show()\n",
        "plt.close()\n",
        "\n",
        "# Residuals histogram\n",
        "residuals = y_pred - y_test\n",
        "plt.figure(figsize=(5,4))\n",
        "plt.hist(residuals, bins=40, alpha=0.7)\n",
        "plt.title(\"Residuals Histogram\")\n",
        "plt.xlabel(\"Residual\")\n",
        "plt.ylabel(\"Frequency\")\n",
        "plt.tight_layout()\n",
        "plt.savefig(EVAL_DIR / \"residual_hist.png\", dpi=150)\n",
        "plt.show()\n",
        "plt.close()\n",
        "\n",
        "# Residuals vs Predicted\n",
        "plt.figure(figsize=(5,4))\n",
        "plt.scatter(y_pred, residuals, s=8, alpha=0.6)\n",
        "plt.axhline(0, color=\"black\", linestyle=\"--\", linewidth=1)\n",
        "plt.xlabel(\"Predicted\")\n",
        "plt.ylabel(\"Residual\")\n",
        "plt.title(\"Residuals vs Predicted\")\n",
        "plt.tight_layout()\n",
        "plt.savefig(EVAL_DIR / \"residual_vs_pred.png\", dpi=150)\n",
        "plt.show()\n",
        "plt.close()\n"
      ],
      "metadata": {
        "colab": {
          "base_uri": "https://localhost:8080/",
          "height": 1257
        },
        "id": "HS1le5PczMay",
        "outputId": "5045d687-c340-4c65-b891-a3af9bf0e270"
      },
      "execution_count": 63,
      "outputs": [
        {
          "output_type": "display_data",
          "data": {
            "text/plain": [
              "<Figure size 500x500 with 1 Axes>"
            ],
            "image/png": "[encoded data removed]"
          },
          "metadata": {}
        },
        {
          "output_type": "display_data",
          "data": {
            "text/plain": [
              "<Figure size 500x400 with 1 Axes>"
            ],
            "image/png": "[encoded data removed]"
          },
          "metadata": {}
        },
        {
          "output_type": "display_data",
          "data": {
            "text/plain": [
              "<Figure size 500x400 with 1 Axes>"
            ],
            "image/png": "[encoded data removed]"
          },
          "metadata": {}
        }
      ]
    },
    {
      "cell_type": "code",
      "source": [
        "# Save metrics and predictions\n",
        "timestamp = \"latest\"\n",
        "metrics = {\n",
        "    \"timestamp\": timestamp,\n",
        "    \"model\": model_path.name,\n",
        "    \"target\": TARGET,\n",
        "    \"n_features\": len(features),\n",
        "    \"RMSE\": rmse,\n",
        "    \"MAE\": mae,\n",
        "    \"R2\": r2,\n",
        "    \"MAPE\": mape\n",
        "}\n",
        "\n",
        "pred_df = pd.DataFrame({\"y_true\": y_test, \"y_pred\": y_pred})\n",
        "pred_path = EVAL_DIR / f\"predictions_{timestamp}.csv\"\n",
        "pred_df.to_csv(pred_path, index=False)\n",
        "\n",
        "metrics_path = EVAL_DIR / f\"metrics_{timestamp}.json\"\n",
        "with open(metrics_path, \"w\") as f:\n",
        "    json.dump(metrics, f, indent=2)\n",
        "\n",
        "print(\"\\n[Done] Evaluation completed.\")\n",
        "print(json.dumps(metrics, indent=2))"
      ],
      "metadata": {
        "colab": {
          "base_uri": "https://localhost:8080/",
          "height": 0
        },
        "id": "sEp6p5xXzkmg",
        "outputId": "5540150a-0465-46e0-878a-9bd33c75465a"
      },
      "execution_count": 64,
      "outputs": [
        {
          "output_type": "stream",
          "name": "stdout",
          "text": [
            "\n",
            "[Done] Evaluation completed.\n",
            "{\n",
            "  \"timestamp\": \"latest\",\n",
            "  \"model\": \"baseline_20251012-233358.joblib\",\n",
            "  \"target\": \"company_TRNO\",\n",
            "  \"n_features\": 14,\n",
            "  \"RMSE\": 1.133401626513858,\n",
            "  \"MAE\": 0.9795238324537743,\n",
            "  \"R2\": -8.201331096122317,\n",
            "  \"MAPE\": 7132433741.953114\n",
            "}\n"
          ]
        }
      ]
    }
  ],
  "metadata": {
    "colab": {
      "toc_visible": true,
      "provenance": []
    },
    "kernelspec": {
      "display_name": "Python 3 (ipykernel)",
      "language": "python",
      "name": "python3"
    },
    "language_info": {
      "codemirror_mode": {
        "name": "ipython",
        "version": 3
      },
      "file_extension": ".py",
      "mimetype": "text/x-python",
      "name": "python",
      "nbconvert_exporter": "python",
      "pygments_lexer": "ipython3",
      "version": "3.12.6"
    }
  },
  "nbformat": 4,
  "nbformat_minor": 0
}